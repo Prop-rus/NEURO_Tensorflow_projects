{
  "nbformat": 4,
  "nbformat_minor": 0,
  "metadata": {
    "colab": {
      "name": "Копия блокнота \"ДЗ38. TensorFlow #1 Власов АЛ\"",
      "provenance": [],
      "collapsed_sections": [],
      "toc_visible": true,
      "machine_shape": "hm"
    },
    "kernelspec": {
      "name": "python3",
      "display_name": "Python 3"
    },
    "accelerator": "GPU"
  },
  "cells": [
    {
      "cell_type": "markdown",
      "metadata": {
        "id": "OsbiXDayoGzn"
      },
      "source": [
        "*Теоретический материал:* https://youtu.be/cbfsRIch4V0?t=77"
      ]
    },
    {
      "cell_type": "code",
      "metadata": {
        "id": "Hf49I_EHjMAV"
      },
      "source": [
        "import tensorflow as tf\n",
        "import datetime,os\n",
        "from tensorflow import keras\n",
        "from tensorflow.keras import layers\n",
        "import numpy as np\n",
        "import seaborn as sns\n",
        "sns.set_style('darkgrid')\n",
        "import matplotlib.pyplot as plt"
      ],
      "execution_count": null,
      "outputs": []
    },
    {
      "cell_type": "markdown",
      "metadata": {
        "id": "5Km9tyEGRtFi"
      },
      "source": [
        "# LIGHT"
      ]
    },
    {
      "cell_type": "markdown",
      "metadata": {
        "id": "0ktii99a6VXS"
      },
      "source": [
        "## LIGHT 1"
      ]
    },
    {
      "cell_type": "markdown",
      "metadata": {
        "id": "55BXohr3FeQe"
      },
      "source": [
        "Создаем генератор, из которого будем создавать x и y"
      ]
    },
    {
      "cell_type": "code",
      "metadata": {
        "id": "qRaUfssL5cPU"
      },
      "source": [
        "random_gen = tf.random.Generator.from_seed(1)"
      ],
      "execution_count": null,
      "outputs": []
    },
    {
      "cell_type": "code",
      "metadata": {
        "id": "c7R2Jk1dAJ9I"
      },
      "source": [
        "random_gen"
      ],
      "execution_count": null,
      "outputs": []
    },
    {
      "cell_type": "code",
      "metadata": {
        "id": "IxDb-NmF6BZU"
      },
      "source": [
        "for _ in range(4):\n",
        "  print(random_gen.normal(shape=[2, 3]))"
      ],
      "execution_count": null,
      "outputs": []
    },
    {
      "cell_type": "markdown",
      "metadata": {
        "id": "nPNLYYnzFlmb"
      },
      "source": [
        "Создаем функцию генератора, которая будет генерить x и y в датасете"
      ]
    },
    {
      "cell_type": "code",
      "metadata": {
        "id": "pP_sCNSn6U9I"
      },
      "source": [
        "def gen():\n",
        "  x = random_gen.normal(shape=[2, 3])\n",
        "  y = random_gen.normal(shape=[])\n",
        "  yield x, y"
      ],
      "execution_count": null,
      "outputs": []
    },
    {
      "cell_type": "markdown",
      "metadata": {
        "id": "aFmSUS0sFuoK"
      },
      "source": [
        "Создаем датасет, указываем генератор, описываем структуру"
      ]
    },
    {
      "cell_type": "code",
      "metadata": {
        "id": "VJhjxfc-BlM8"
      },
      "source": [
        "random_DS = tf.data.Dataset.from_generator(gen,\n",
        "                                           output_signature = (\n",
        "                                               tf.TensorSpec(shape=(2, 3), dtype=tf.float32),\n",
        "                                               tf.TensorSpec(shape=(), dtype=tf.float32)\n",
        "                                           )\n",
        "                                           )"
      ],
      "execution_count": null,
      "outputs": []
    },
    {
      "cell_type": "markdown",
      "metadata": {
        "id": "X5LPU1bFF7bz"
      },
      "source": [
        "Проверяем"
      ]
    },
    {
      "cell_type": "code",
      "metadata": {
        "id": "WOcSku5cE7MA"
      },
      "source": [
        "list(random_DS.take(1))"
      ],
      "execution_count": null,
      "outputs": []
    },
    {
      "cell_type": "markdown",
      "metadata": {
        "id": "xT8Qpe016Xq2"
      },
      "source": [
        "## LIGHT 2\n"
      ]
    },
    {
      "cell_type": "markdown",
      "metadata": {
        "id": "1PhSXf5xRDWY"
      },
      "source": [
        "Определяем модель"
      ]
    },
    {
      "cell_type": "code",
      "metadata": {
        "id": "GvF0Qxsm7xFS"
      },
      "source": [
        "class myModel(object):\n",
        "  def __init__(self):\n",
        "    self.W = tf.Variable(5.0)\n",
        "    self.b = tf.Variable(10.0)\n",
        "\n",
        "  def __call__(self, x):\n",
        "    return tf.cos(self.W * x + self.b)\n",
        "\n",
        "model = myModel()"
      ],
      "execution_count": null,
      "outputs": []
    },
    {
      "cell_type": "markdown",
      "metadata": {
        "id": "7jUUrF21RJIF"
      },
      "source": [
        "Определяем ошибку"
      ]
    },
    {
      "cell_type": "code",
      "metadata": {
        "id": "7twb9oi97xFV"
      },
      "source": [
        "def loss(target_y, predicted_y):\n",
        "  return tf.reduce_mean(tf.square(target_y - predicted_y))"
      ],
      "execution_count": null,
      "outputs": []
    },
    {
      "cell_type": "markdown",
      "metadata": {
        "id": "vmnBL_b8RNsI"
      },
      "source": [
        "задаем целевые значения, входящие значения"
      ]
    },
    {
      "cell_type": "code",
      "metadata": {
        "id": "TC6prT-m7xFW"
      },
      "source": [
        "TRUE_W = 6.0\n",
        "TRUE_b = 2.0\n",
        "NUM_EXAMPLES = 1000\n",
        "\n",
        "inputs  = tf.random.normal(shape=[NUM_EXAMPLES])\n",
        "outputs = tf.cos(inputs * TRUE_W + TRUE_b)"
      ],
      "execution_count": null,
      "outputs": []
    },
    {
      "cell_type": "code",
      "metadata": {
        "id": "ZSG9PZft7xFX"
      },
      "source": [
        "import matplotlib.pyplot as plt\n",
        "\n",
        "plt.figure(figsize=(14,7))\n",
        "plt.scatter(inputs, outputs, c='b')\n",
        "plt.scatter(inputs, model(inputs), c='r')\n",
        "plt.show()\n",
        "\n",
        "print('Current loss: %1.6f' % loss(model(inputs), outputs).numpy())"
      ],
      "execution_count": null,
      "outputs": []
    },
    {
      "cell_type": "code",
      "metadata": {
        "id": "f_uvEJZE7xFY"
      },
      "source": [
        "def train(model, inputs, outputs, learning_rate):\n",
        "  with tf.GradientTape() as t:\n",
        "    current_loss = loss(outputs, model(inputs))\n",
        "    dW, db = t.gradient(current_loss, [model.W, model.b])\n",
        "    model.W.assign_sub(learning_rate * dW)\n",
        "    model.b.assign_sub(learning_rate * db)"
      ],
      "execution_count": null,
      "outputs": []
    },
    {
      "cell_type": "code",
      "metadata": {
        "id": "LQjsRe2N7xFZ"
      },
      "source": [
        "!rm -R /tmp/mylogs/eager"
      ],
      "execution_count": null,
      "outputs": []
    },
    {
      "cell_type": "code",
      "metadata": {
        "id": "U9F0aW2C7xFd"
      },
      "source": [
        "!ls '/tmp/mylogs/eager'"
      ],
      "execution_count": null,
      "outputs": []
    },
    {
      "cell_type": "markdown",
      "metadata": {
        "id": "sIeuWrKrRevy"
      },
      "source": [
        "## LIGHT 3"
      ]
    },
    {
      "cell_type": "code",
      "metadata": {
        "id": "BHp2cuOe7xFd"
      },
      "source": [
        "path = '/tmp/mylogs/eager/'\n",
        "\n",
        "current_time = datetime.datetime.now().strftime(\"%Y%m%d-%H%M%S\")\n",
        "loss_log_dir = path + current_time + '/data'\n",
        "loss_summary_writer = tf.summary.create_file_writer(loss_log_dir)\n",
        "\n",
        "model = myModel()\n",
        "\n",
        "with loss_summary_writer.as_default():\n",
        "  Ws, bs = [], []\n",
        "  epoch = 0\n",
        "  while epoch<1e15:\n",
        "    Ws.append(model.W.numpy())\n",
        "    bs.append(model.b.numpy())\n",
        "    current_loss = loss(outputs, model(inputs))\n",
        "\n",
        "    train(model, inputs, outputs, learning_rate=0.001)\n",
        "    print('Epoch %2d: W=%1.2f b=%1.2f, loss=%2.5f' %\n",
        "          (epoch, Ws[-1], bs[-1], current_loss))\n",
        "\n",
        "    tf.summary.scalar(\"current_loss\", current_loss, step=epoch)\n",
        "    tf.summary.scalar(\"W\", Ws[-1], step=epoch)\n",
        "    tf.summary.scalar(\"b\", bs[-1], step=epoch)\n",
        "    epoch+=1\n",
        "    loss_summary_writer.flush()\n",
        "\n",
        "\n",
        "plt.figure(figsize=(14,7))\n",
        "plt.plot(range(epoch), Ws, 'r',\n",
        "         range(epoch), bs, 'b')\n",
        "plt.plot([TRUE_W] * epoch, 'r--',\n",
        "         [TRUE_b] * epoch, 'b--')\n",
        "plt.legend(['W', 'b', 'True W', 'True b'])\n",
        "plt.show()"
      ],
      "execution_count": null,
      "outputs": []
    },
    {
      "cell_type": "code",
      "metadata": {
        "id": "tUdvMjQg7xFf"
      },
      "source": [
        "import matplotlib.pyplot as plt\n",
        "plt.figure(figsize=(14,7))\n",
        "plt.scatter(inputs, outputs, c='b')\n",
        "plt.scatter(inputs, model(inputs), c='r')\n",
        "plt.show()\n",
        "\n",
        "print('Current loss: %1.6f' % loss(model(inputs), outputs).numpy())"
      ],
      "execution_count": null,
      "outputs": []
    },
    {
      "cell_type": "code",
      "metadata": {
        "id": "bL68fmQw7xFg"
      },
      "source": [
        "%load_ext tensorboard"
      ],
      "execution_count": null,
      "outputs": []
    },
    {
      "cell_type": "code",
      "metadata": {
        "id": "NteLCfte7xFh"
      },
      "source": [
        "!ls /tmp/mylogs/eager"
      ],
      "execution_count": null,
      "outputs": []
    },
    {
      "cell_type": "code",
      "metadata": {
        "id": "PYOlpx5U7xFh"
      },
      "source": [
        "%tensorboard --logdir '/tmp/mylogs/eager/'"
      ],
      "execution_count": null,
      "outputs": []
    },
    {
      "cell_type": "markdown",
      "metadata": {
        "id": "6kcPNsAKIX5i"
      },
      "source": [
        "# PRO"
      ]
    },
    {
      "cell_type": "code",
      "metadata": {
        "id": "oNGPKMr3IXod"
      },
      "source": [
        "# создаем тензор с х\n",
        "x = tf.random.uniform([100, 3])\n",
        "x"
      ],
      "execution_count": null,
      "outputs": []
    },
    {
      "cell_type": "code",
      "metadata": {
        "id": "4K-fVWaOMiWz"
      },
      "source": [
        "# создаем тезор с у (в данном случае аналог биас)\n",
        "y =tf.concat([tf.ones([50,1]), tf.zeros([50,1])], axis=0)"
      ],
      "execution_count": null,
      "outputs": []
    },
    {
      "cell_type": "code",
      "metadata": {
        "id": "aNJ_8AIvMq-c"
      },
      "source": [
        "y"
      ],
      "execution_count": null,
      "outputs": []
    },
    {
      "cell_type": "code",
      "metadata": {
        "id": "t5TU0n9aNcOG"
      },
      "source": [
        "# создадим тезор с начальными весами\n",
        "w = tf.random.normal([3, 1], stddev=0.3)"
      ],
      "execution_count": null,
      "outputs": []
    },
    {
      "cell_type": "code",
      "metadata": {
        "id": "DXTT3KzFN7p9"
      },
      "source": [
        "w"
      ],
      "execution_count": null,
      "outputs": []
    },
    {
      "cell_type": "code",
      "metadata": {
        "id": "kKY9R3nxIvTr"
      },
      "source": [
        "# определим модель, в которой изменяться будут только веса, а возвращаться перемноженные входные данные на веса + биас\n",
        "class myModel(object):\n",
        "  def __init__(self, w):\n",
        "    self.W = tf.Variable(w)\n",
        "    # self.b = tf.Variable(10.0)\n",
        "\n",
        "  def __call__(self, x, y):\n",
        "    return tf.add(tf.matmul(x, self.W), y)\n",
        "\n",
        "model = myModel(w)"
      ],
      "execution_count": null,
      "outputs": []
    },
    {
      "cell_type": "code",
      "metadata": {
        "id": "MNv5KZ-iSiBS"
      },
      "source": [
        "model(x,y)"
      ],
      "execution_count": null,
      "outputs": []
    },
    {
      "cell_type": "code",
      "metadata": {
        "id": "kppllLCbR4t1"
      },
      "source": [
        "# зададим целевые данные\n",
        "y_true = tf.random.uniform([100, 1])"
      ],
      "execution_count": null,
      "outputs": []
    },
    {
      "cell_type": "code",
      "metadata": {
        "id": "JPJlmCiASYcm"
      },
      "source": [
        "y_true"
      ],
      "execution_count": null,
      "outputs": []
    },
    {
      "cell_type": "code",
      "metadata": {
        "id": "w6OZ22JeIvT6"
      },
      "source": [
        "# определим ошибку мае\n",
        "def loss(target_y, predicted_y):\n",
        "  return tf.reduce_mean(tf.abs(target_y - predicted_y))"
      ],
      "execution_count": null,
      "outputs": []
    },
    {
      "cell_type": "code",
      "metadata": {
        "id": "unGmJlJx5X2f"
      },
      "source": [
        "# определим функцию обучения с градиентным спуском и применением оптимизатора\n",
        "opt = tf.optimizers.Adam()\n",
        "\n",
        "def train(model, x, y, outputs):\n",
        "    with tf.GradientTape() as tape:\n",
        "      cur_loss = loss(y_true, model(x,y))\n",
        "    vars = [model.W]\n",
        "    grads = tape.gradient(cur_loss, vars)\n",
        "    # processed_grads = [process_gradient(g) for g in grads]\n",
        "\n",
        "# Ask the optimizer to apply the processed gradients.\n",
        "    opt.apply_gradients(zip(grads, vars))"
      ],
      "execution_count": null,
      "outputs": []
    },
    {
      "cell_type": "code",
      "metadata": {
        "id": "ocy-Vu7PIvT8"
      },
      "source": [
        "!rm -R /tmp/mylogs/eager"
      ],
      "execution_count": null,
      "outputs": []
    },
    {
      "cell_type": "code",
      "metadata": {
        "id": "3-ZxHyTiIvT8"
      },
      "source": [
        "!ls '/tmp/mylogs/eager'"
      ],
      "execution_count": null,
      "outputs": []
    },
    {
      "cell_type": "code",
      "metadata": {
        "id": "o3FeNTOns0tx"
      },
      "source": [
        "# создаем файл для записи логов для последующей визуализации и обучаем модель\n",
        "path = '/tmp/mylogs/eager/'\n",
        "\n",
        "current_time = datetime.datetime.now().strftime(\"%Y%m%d-%H%M%S\")\n",
        "loss_log_dir = path + current_time + '/data'\n",
        "loss_summary_writer = tf.summary.create_file_writer(loss_log_dir)\n",
        "\n",
        "model = myModel(w)\n",
        "\n",
        "with loss_summary_writer.as_default():\n",
        "  \n",
        "  Ws = []\n",
        "  epoch = 0\n",
        "  while epoch<1000:\n",
        "\n",
        "    Ws.append(model.W.numpy())\n",
        "    current_loss = loss(y_true, model(x,y))\n",
        "    train(model, x, y, y_true)\n",
        "    print('Epoch %2d:  loss=%2.5f' %\n",
        "          (epoch, current_loss))\n",
        "    print(Ws[-1])\n",
        "    tf.summary.scalar(\"current_loss\", current_loss, step=epoch)\n",
        "    epoch+=1\n",
        "    loss_summary_writer.flush()"
      ],
      "execution_count": null,
      "outputs": []
    },
    {
      "cell_type": "code",
      "metadata": {
        "id": "DzNrU3I6IvT9"
      },
      "source": [
        "%load_ext tensorboard"
      ],
      "execution_count": null,
      "outputs": []
    },
    {
      "cell_type": "code",
      "metadata": {
        "id": "mvKXghxVIvT9"
      },
      "source": [
        "!ls /tmp/mylogs/eager"
      ],
      "execution_count": null,
      "outputs": []
    },
    {
      "cell_type": "code",
      "metadata": {
        "id": "xjwef6ZLIvT-"
      },
      "source": [
        "%tensorboard --logdir '/tmp/mylogs/eager/'"
      ],
      "execution_count": null,
      "outputs": []
    },
    {
      "cell_type": "code",
      "metadata": {
        "id": "YrvY9ZRGrECz"
      },
      "source": [
        ""
      ],
      "execution_count": null,
      "outputs": []
    }
  ]
}